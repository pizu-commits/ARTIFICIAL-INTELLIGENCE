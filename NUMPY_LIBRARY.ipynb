{
  "nbformat": 4,
  "nbformat_minor": 0,
  "metadata": {
    "colab": {
      "provenance": [],
      "authorship_tag": "ABX9TyPzL+UqoWhvLQ6J9w1Xd+2G",
      "include_colab_link": true
    },
    "kernelspec": {
      "name": "python3",
      "display_name": "Python 3"
    },
    "language_info": {
      "name": "python"
    }
  },
  "cells": [
    {
      "cell_type": "markdown",
      "metadata": {
        "id": "view-in-github",
        "colab_type": "text"
      },
      "source": [
        "<a href=\"https://colab.research.google.com/github/pizu-commits/ARTIFICIAL-INTELLIGENCE/blob/main/NUMPY_LIBRARY.ipynb\" target=\"_parent\"><img src=\"https://colab.research.google.com/assets/colab-badge.svg\" alt=\"Open In Colab\"/></a>"
      ]
    },
    {
      "cell_type": "markdown",
      "source": [
        "# *NUMPY LIBRARY*\n",
        "it is library for computations\n",
        "we can make 1D,2D,3D and more D array(require less time than pyhton list)\n",
        "\n",
        "1D:[]\n",
        "\n",
        "2D:[[]]\n",
        "\n",
        "3D:[[[]]]\n",
        "\n",
        "\n",
        "# **FUNTIONS:**\n",
        "1.np.array(list) any data type and no commas\n",
        "\n",
        "2.%timeit: tell the time of one line\n",
        "\n",
        "3.%%time it:tell the time of whole code\n",
        "\n",
        "(list function)4.arr.append() for wrtitng age se\n",
        "\n",
        "5.arr.ndim#which dimention\n",
        "\n",
        "6.np.zeros(no of zeros)\n",
        "\n",
        "7.np.ones(no of zeros)\n",
        "\n",
        "8.np.empty(no of emptiness)\n",
        "\n",
        "9.np.arange(1,3)\n",
        "\n",
        "10.np.eye(no of 1,one column elements)\n",
        "\n",
        "11.np.linspace(1,4,num=5) range ko todo 5 numbers me\n",
        "\n",
        "12.np.random.rand(4)\n",
        "\n",
        "13.np.random.randn(2)(in negative also)\n",
        "\n",
        "14.np.random.ranf(3) (float)\n",
        "\n",
        "15.np.random.int(3)  for int(min,max,number)\n",
        "\n",
        "16.linalg module(solve problems of the matrix)\n",
        "\n",
        "\n",
        "insert(var,loc,nuber,axis)\n",
        "\n",
        "delete(var,loc,axis)\n",
        "\n",
        "append(add data )\n",
        "\n"
      ],
      "metadata": {
        "id": "kLGgllk_Ktuk"
      }
    },
    {
      "cell_type": "markdown",
      "source": [
        "WAYS FOR CREATING ARRAYS"
      ],
      "metadata": {
        "id": "l3sVu7tHZEmS"
      }
    },
    {
      "cell_type": "code",
      "execution_count": 7,
      "metadata": {
        "colab": {
          "base_uri": "https://localhost:8080/"
        },
        "id": "1iHAkmvfKsvA",
        "outputId": "1bc3fa7b-dfa8-4133-8e5b-fa427b2a5b77"
      },
      "outputs": [
        {
          "output_type": "stream",
          "name": "stdout",
          "text": [
            "['komal' 'zahid']\n"
          ]
        }
      ],
      "source": [
        "\n",
        "import numpy as np\n",
        "x=np.array(['komal','zahid'])\n",
        "print(x)\n"
      ]
    },
    {
      "cell_type": "code",
      "source": [
        "%timeit [print(\"komal\")]"
      ],
      "metadata": {
        "id": "fYYJ5OLBV4Mz"
      },
      "execution_count": null,
      "outputs": []
    },
    {
      "cell_type": "code",
      "source": [
        "%%timeit #now all code"
      ],
      "metadata": {
        "id": "vz_XZL75WmOC"
      },
      "execution_count": null,
      "outputs": []
    },
    {
      "cell_type": "code",
      "source": [
        "#list has append function\n",
        "l=[]\n",
        "for i in range (1,10):\n",
        " l.append(int(input(\"enter:\")))\n",
        "print(l)"
      ],
      "metadata": {
        "colab": {
          "base_uri": "https://localhost:8080/"
        },
        "id": "ZGeYxztzYUKz",
        "outputId": "b39ce46e-c9d3-4a0b-9800-005f21d6f393"
      },
      "execution_count": 24,
      "outputs": [
        {
          "output_type": "stream",
          "name": "stdout",
          "text": [
            "enter:1\n",
            "enter:2\n",
            "enter:3\n",
            "enter:4\n",
            "enter:5\n",
            "enter:6\n",
            "enter:7\n",
            "enter:8\n",
            "enter:9\n",
            "[1, 2, 3, 4, 5, 6, 7, 8, 9]\n"
          ]
        }
      ]
    },
    {
      "cell_type": "code",
      "source": [
        "l=np.array([[1,2,3,4],[5,6,7,8]])\n",
        "print(l.ndim)"
      ],
      "metadata": {
        "colab": {
          "base_uri": "https://localhost:8080/"
        },
        "id": "VjvdF-fUZLUL",
        "outputId": "9ba397cf-efa9-4cd1-fad6-12e1ee9d285b"
      },
      "execution_count": 25,
      "outputs": [
        {
          "output_type": "stream",
          "name": "stdout",
          "text": [
            "2\n"
          ]
        }
      ]
    },
    {
      "cell_type": "code",
      "source": [
        "l=np.array([1,2,3,4],ndmin = 10)\n",
        "print(l)"
      ],
      "metadata": {
        "colab": {
          "base_uri": "https://localhost:8080/"
        },
        "id": "WFftb4ixbiLA",
        "outputId": "909bae1e-06d5-411f-82ea-f4a70afece8c"
      },
      "execution_count": 28,
      "outputs": [
        {
          "output_type": "stream",
          "name": "stdout",
          "text": [
            "[[[[[[[[[[1 2 3 4]]]]]]]]]]\n"
          ]
        }
      ]
    },
    {
      "cell_type": "code",
      "source": [
        "l1=np.zeros((3,3))\n",
        "print(l1)"
      ],
      "metadata": {
        "colab": {
          "base_uri": "https://localhost:8080/"
        },
        "id": "icDw8hLPcSVX",
        "outputId": "66cdc0ae-547a-4d9a-a2b5-2c2193ca4f47"
      },
      "execution_count": 37,
      "outputs": [
        {
          "output_type": "stream",
          "name": "stdout",
          "text": [
            "[[0. 0. 0.]\n",
            " [0. 0. 0.]\n",
            " [0. 0. 0.]]\n"
          ]
        }
      ]
    },
    {
      "cell_type": "code",
      "source": [
        "l2=np.ones(2)\n",
        "print(l2)\n",
        "l3=np.empty(2)\n",
        "print(l3)\n",
        "l4=np.arange(4,10)\n",
        "print(l4)\n",
        "l5=np.eye(4)\n",
        "print(l5)\n",
        "l5=np.random.randn(5)\n",
        "print(l5)\n",
        "l6=np.linspace(1,4,num=9)\n",
        "print(l6)"
      ],
      "metadata": {
        "colab": {
          "base_uri": "https://localhost:8080/"
        },
        "id": "s0UQK2aKczTw",
        "outputId": "b9537793-e785-487a-af3b-9a649d3fdf3a"
      },
      "execution_count": 45,
      "outputs": [
        {
          "output_type": "stream",
          "name": "stdout",
          "text": [
            "[1. 1.]\n",
            "[1. 1.]\n",
            "[4 5 6 7 8 9]\n",
            "[[1. 0. 0. 0.]\n",
            " [0. 1. 0. 0.]\n",
            " [0. 0. 1. 0.]\n",
            " [0. 0. 0. 1.]]\n",
            "[-0.42286236 -0.19296334  1.01501927 -0.65473412 -1.35908829]\n",
            "[1.    1.375 1.75  2.125 2.5   2.875 3.25  3.625 4.   ]\n"
          ]
        }
      ]
    },
    {
      "cell_type": "code",
      "source": [
        "a=np.array([1,2,3,4])\n",
        "b=np.array([1,2,3,4])\n",
        "c=a+b\n",
        "print(c)"
      ],
      "metadata": {
        "colab": {
          "base_uri": "https://localhost:8080/"
        },
        "id": "Qqf8jPR45b1s",
        "outputId": "083ac64d-95aa-43f2-f288-053e8407c00e"
      },
      "execution_count": 50,
      "outputs": [
        {
          "output_type": "stream",
          "name": "stdout",
          "text": [
            "[2 4 6 8]\n"
          ]
        }
      ]
    },
    {
      "cell_type": "code",
      "source": [],
      "metadata": {
        "id": "hmmM12qdFjju"
      },
      "execution_count": null,
      "outputs": []
    }
  ]
}